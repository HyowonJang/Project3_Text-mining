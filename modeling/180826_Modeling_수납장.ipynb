{
 "cells": [
  {
   "cell_type": "code",
   "execution_count": 1,
   "metadata": {},
   "outputs": [],
   "source": [
    "import function as f"
   ]
  },
  {
   "cell_type": "code",
   "execution_count": 2,
   "metadata": {
    "scrolled": true
   },
   "outputs": [
    {
     "name": "stdout",
     "output_type": "stream",
     "text": [
      "0번째 item 24240567의 review 수 : 386\n",
      "1번째 item 14663251의 review 수 : 916\n",
      "2번째 item 9383538의 review 수 : 170\n",
      "3번째 item 6782692의 review 수 : 543\n",
      "4번째 item 14663245의 review 수 : 657\n",
      "5번째 item 212560의 review 수 : 1064\n",
      "6번째 item 1509871의 review 수 : 1353\n",
      "7번째 item 24070993의 review 수 : 354\n",
      "8번째 item 47423587의 review 수 : 836\n",
      "9번째 item 858687의 review 수 : 4968\n",
      "10번째 item 24070996의 review 수 : 540\n",
      "11번째 item 24070995의 review 수 : 710\n",
      "12번째 item 6782692의 review 수 : 543\n",
      "13번째 item 24070993의 review 수 : 354\n",
      "14번째 item 24240567의 review 수 : 386\n",
      "15번째 item 122785302의 review 수 : 19\n",
      "16번째 item 19049940의 review 수 : 91\n",
      "17번째 item 8789859의 review 수 : 600\n",
      "18번째 item 63494366의 review 수 : 56\n",
      "19번째 item 47423587의 review 수 : 836\n",
      "20번째 item 1509871의 review 수 : 1353\n",
      "21번째 item 5346978의 review 수 : 221\n",
      "22번째 item 9932423의 review 수 : 111\n",
      "23번째 item 63504593의 review 수 : 44\n",
      "24번째 item 47423587의 review 수 : 836\n",
      "25번째 item 39128250의 review 수 : 30\n",
      "No reviews\n",
      "27번째 item 1013011의 review 수 : 2098\n",
      "28번째 item 61778368의 review 수 : 35\n",
      "29번째 item 1013015의 review 수 : 720\n",
      "30번째 item 54908569의 review 수 : 26\n",
      "31번째 item 24070996의 review 수 : 540\n",
      "32번째 item 1013011의 review 수 : 2098\n",
      "33번째 item 858687의 review 수 : 4968\n",
      "34번째 item 3439001의 review 수 : 2226\n",
      "35번째 item 2982260의 review 수 : 765\n",
      "36번째 item 24070996의 review 수 : 540\n",
      "37번째 item 63494366의 review 수 : 56\n",
      "38번째 item 2576416의 review 수 : 223\n",
      "39번째 item 212560의 review 수 : 1064\n",
      "40번째 item 858687의 review 수 : 4968\n",
      "41번째 item 24070993의 review 수 : 354\n",
      "42번째 item 31294632의 review 수 : 13\n",
      "43번째 item 5512842의 review 수 : 834\n",
      "44번째 item 25969320의 review 수 : 96\n",
      "45번째 item 46176910의 review 수 : 16\n",
      "46번째 item 47472750의 review 수 : 160\n",
      "47번째 item 456963의 review 수 : 162\n",
      "48번째 item 24093167의 review 수 : 13\n",
      "49번째 item 18579211의 review 수 : 686\n",
      "50번째 item 48113516의 review 수 : 255\n",
      "51번째 item 14155995의 review 수 : 76\n",
      "52번째 item 37512628의 review 수 : 16\n",
      "53번째 item 3027233의 review 수 : 8\n",
      "54번째 item 34860465의 review 수 : 33\n",
      "55번째 item 67527880의 review 수 : 203\n",
      "56번째 item 7253111의 review 수 : 267\n",
      "57번째 item 3439001의 review 수 : 2226\n",
      "58번째 item 100483502의 review 수 : 3\n",
      "59번째 item 4059943의 review 수 : 1123\n",
      "60번째 item 1111097의 review 수 : 1683\n",
      "61번째 item 4946402의 review 수 : 184\n",
      "62번째 item 3439001의 review 수 : 2226\n",
      "63번째 item 53314915의 review 수 : 59\n",
      "64번째 item 24070993의 review 수 : 354\n",
      "65번째 item 3027834의 review 수 : 1548\n",
      "66번째 item 36623519의 review 수 : 93\n",
      "67번째 item 23752202의 review 수 : 563\n",
      "68번째 item 1486893의 review 수 : 21\n",
      "69번째 item 19417848의 review 수 : 46\n",
      "70번째 item 24070998의 review 수 : 199\n",
      "71번째 item 23992302의 review 수 : 120\n",
      "72번째 item 25498095의 review 수 : 33\n",
      "73번째 item 1486595의 review 수 : 1232\n",
      "74번째 item 19417846의 review 수 : 72\n",
      "75번째 item 71035431의 review 수 : 25\n",
      "76번째 item 178888의 review 수 : 330\n",
      "77번째 item 5263437의 review 수 : 362\n",
      "78번째 item 5337847의 review 수 : 285\n",
      "79번째 item 3555427의 review 수 : 1191\n",
      "80번째 item 31217457의 review 수 : 58\n",
      "81번째 item 24070992의 review 수 : 246\n",
      "82번째 item 36623519의 review 수 : 93\n",
      "83번째 item 47057009의 review 수 : 125\n",
      "84번째 item 34261002의 review 수 : 229\n",
      "85번째 item 29449598의 review 수 : 303\n",
      "86번째 item 1288255의 review 수 : 941\n",
      "87번째 item 24070998의 review 수 : 199\n",
      "88번째 item 30859285의 review 수 : 838\n",
      "89번째 item 24367230의 review 수 : 3\n",
      "90번째 item 51518843의 review 수 : 82\n",
      "91번째 item 24240565의 review 수 : 151\n",
      "92번째 item 8789859의 review 수 : 600\n",
      "93번째 item 24070992의 review 수 : 246\n",
      "94번째 item 6145843의 review 수 : 734\n",
      "95번째 item 28779988의 review 수 : 84\n",
      "96번째 item 9383537의 review 수 : 39\n",
      "97번째 item 1553392의 review 수 : 452\n",
      "98번째 item 24240567의 review 수 : 386\n",
      "99번째 item 19417845의 review 수 : 26\n",
      "0번째부터 99번째 item의 총 review 수 : 61309\n"
     ]
    }
   ],
   "source": [
    "f.review_cnt_check('수납장')"
   ]
  },
  {
   "cell_type": "code",
   "execution_count": 4,
   "metadata": {},
   "outputs": [
    {
     "name": "stdout",
     "output_type": "stream",
     "text": [
      "총 10개의 상품에서 중복제거 후 9개의 상품 크롤링\n",
      "10개 상품 중 review가 없는 상품 수 : 0\n",
      "수납장's Top10 Review Total Count : 9590\n",
      "수납장's Top10 Filtered Review Count : 5157\n",
      "Wall time: 6min 40s\n"
     ]
    }
   ],
   "source": [
    "%%time\n",
    "df_train = f.make_df_train('수납장', 0, 10)"
   ]
  },
  {
   "cell_type": "code",
   "execution_count": 5,
   "metadata": {},
   "outputs": [
    {
     "data": {
      "text/html": [
       "<div>\n",
       "<style scoped>\n",
       "    .dataframe tbody tr th:only-of-type {\n",
       "        vertical-align: middle;\n",
       "    }\n",
       "\n",
       "    .dataframe tbody tr th {\n",
       "        vertical-align: top;\n",
       "    }\n",
       "\n",
       "    .dataframe thead th {\n",
       "        text-align: right;\n",
       "    }\n",
       "</style>\n",
       "<table border=\"1\" class=\"dataframe\">\n",
       "  <thead>\n",
       "    <tr style=\"text-align: right;\">\n",
       "      <th></th>\n",
       "      <th>rating</th>\n",
       "      <th>rating_filtered</th>\n",
       "      <th>item_nbr</th>\n",
       "      <th>item</th>\n",
       "      <th>option</th>\n",
       "      <th>date</th>\n",
       "      <th>name</th>\n",
       "      <th>full_review</th>\n",
       "      <th>pos</th>\n",
       "      <th>pos_filtered</th>\n",
       "    </tr>\n",
       "  </thead>\n",
       "  <tbody>\n",
       "    <tr>\n",
       "      <th>5152</th>\n",
       "      <td>5</td>\n",
       "      <td>1</td>\n",
       "      <td>858687</td>\n",
       "      <td>마켓비 LEITER 600 넓은 4단 선반</td>\n",
       "      <td>레드</td>\n",
       "      <td>2016.03.29</td>\n",
       "      <td>이*선</td>\n",
       "      <td>.  조립두쉽고좋아요</td>\n",
       "      <td>[(., SF), (조립, NNG), (두, JX), (쉽, VA), (고, ECE...</td>\n",
       "      <td>[조립,쉽,고,좋,]</td>\n",
       "    </tr>\n",
       "    <tr>\n",
       "      <th>5153</th>\n",
       "      <td>5</td>\n",
       "      <td>1</td>\n",
       "      <td>858687</td>\n",
       "      <td>마켓비 LEITER 600 넓은 4단 선반</td>\n",
       "      <td>그레이</td>\n",
       "      <td>2016.03.22</td>\n",
       "      <td>정*경</td>\n",
       "      <td>.  가격이랑 디자인 모두 맘에 듭니다</td>\n",
       "      <td>[(., SF), (가격, NNG), (이랑, JC), (디자인, NNG), (모두...</td>\n",
       "      <td>[가격,디자인,모두,맘,]</td>\n",
       "    </tr>\n",
       "    <tr>\n",
       "      <th>5154</th>\n",
       "      <td>5</td>\n",
       "      <td>1</td>\n",
       "      <td>858687</td>\n",
       "      <td>마켓비 LEITER 600 넓은 4단 선반</td>\n",
       "      <td>레드</td>\n",
       "      <td>2016.03.19</td>\n",
       "      <td>김*연</td>\n",
       "      <td>.  좋음</td>\n",
       "      <td>[(., SF), (좋, VA), (음, ETN)]</td>\n",
       "      <td>[좋,]</td>\n",
       "    </tr>\n",
       "    <tr>\n",
       "      <th>5155</th>\n",
       "      <td>5</td>\n",
       "      <td>1</td>\n",
       "      <td>858687</td>\n",
       "      <td>마켓비 LEITER 600 넓은 4단 선반</td>\n",
       "      <td>그레이</td>\n",
       "      <td>2016.03.16</td>\n",
       "      <td>심*수</td>\n",
       "      <td>.  너무좋아요ㅎㅎ  튼튼하구요ㅋ</td>\n",
       "      <td>[(., SF), (너무, MAG), (좋, VA), (아요, EFN), (ㅎㅎ, ...</td>\n",
       "      <td>[너무,좋,튼튼,하구,ㅋ,]</td>\n",
       "    </tr>\n",
       "    <tr>\n",
       "      <th>5156</th>\n",
       "      <td>4</td>\n",
       "      <td>1</td>\n",
       "      <td>858687</td>\n",
       "      <td>마켓비 LEITER 600 넓은 4단 선반</td>\n",
       "      <td>화이트</td>\n",
       "      <td>2016.01.24</td>\n",
       "      <td>강*훈</td>\n",
       "      <td>.  좋아요 무지</td>\n",
       "      <td>[(., SF), (좋, VA), (아요, EFN), (무지, NNG)]</td>\n",
       "      <td>[좋,무지,]</td>\n",
       "    </tr>\n",
       "  </tbody>\n",
       "</table>\n",
       "</div>"
      ],
      "text/plain": [
       "     rating  rating_filtered item_nbr                     item option  \\\n",
       "5152      5                1   858687  마켓비 LEITER 600 넓은 4단 선반     레드   \n",
       "5153      5                1   858687  마켓비 LEITER 600 넓은 4단 선반    그레이   \n",
       "5154      5                1   858687  마켓비 LEITER 600 넓은 4단 선반     레드   \n",
       "5155      5                1   858687  마켓비 LEITER 600 넓은 4단 선반    그레이   \n",
       "5156      4                1   858687  마켓비 LEITER 600 넓은 4단 선반    화이트   \n",
       "\n",
       "            date name               full_review  \\\n",
       "5152  2016.03.29  이*선            .  조립두쉽고좋아요      \n",
       "5153  2016.03.22  정*경  .  가격이랑 디자인 모두 맘에 듭니다      \n",
       "5154  2016.03.19  김*연                  .  좋음      \n",
       "5155  2016.03.16  심*수     .  너무좋아요ㅎㅎ  튼튼하구요ㅋ      \n",
       "5156  2016.01.24  강*훈              .  좋아요 무지      \n",
       "\n",
       "                                                    pos     pos_filtered  \n",
       "5152  [(., SF), (조립, NNG), (두, JX), (쉽, VA), (고, ECE...      [조립,쉽,고,좋,]  \n",
       "5153  [(., SF), (가격, NNG), (이랑, JC), (디자인, NNG), (모두...   [가격,디자인,모두,맘,]  \n",
       "5154                       [(., SF), (좋, VA), (음, ETN)]             [좋,]  \n",
       "5155  [(., SF), (너무, MAG), (좋, VA), (아요, EFN), (ㅎㅎ, ...  [너무,좋,튼튼,하구,ㅋ,]  \n",
       "5156           [(., SF), (좋, VA), (아요, EFN), (무지, NNG)]          [좋,무지,]  "
      ]
     },
     "metadata": {},
     "output_type": "display_data"
    }
   ],
   "source": [
    "display(df_train.tail())"
   ]
  },
  {
   "cell_type": "code",
   "execution_count": 84,
   "metadata": {},
   "outputs": [],
   "source": [
    "# 크롤링 raw 데이터와 read_csv로 가져온 데이터 concat하지 말 것\n",
    "# 데이터 타입 다름!!"
   ]
  },
  {
   "cell_type": "code",
   "execution_count": 6,
   "metadata": {},
   "outputs": [],
   "source": [
    "import csv\n",
    "df_train.to_csv(\"storage_0_10.csv\", index=False)"
   ]
  },
  {
   "cell_type": "code",
   "execution_count": 57,
   "metadata": {},
   "outputs": [],
   "source": [
    "df_train_1 = pd.read_csv(\"keyword1_0_10.csv\")\n",
    "df_train_2 = pd.read_csv(\"keyword1_10_50.csv\")\n",
    "df_train_3 = pd.read_csv(\"keyword1_50_100.csv\")"
   ]
  },
  {
   "cell_type": "code",
   "execution_count": 61,
   "metadata": {},
   "outputs": [],
   "source": [
    "df_train_concat = pd.concat([df_train_1, df_train_2, df_train_3]).reset_index()"
   ]
  },
  {
   "cell_type": "code",
   "execution_count": 62,
   "metadata": {},
   "outputs": [
    {
     "data": {
      "text/plain": [
       "13806"
      ]
     },
     "execution_count": 62,
     "metadata": {},
     "output_type": "execute_result"
    }
   ],
   "source": [
    "len(df_train_concat)"
   ]
  },
  {
   "cell_type": "code",
   "execution_count": 64,
   "metadata": {},
   "outputs": [],
   "source": [
    "# pos_filtered 컬럼에 대해서 아래 작업 필수\n",
    "df_train_concat['pos_filtered'] = df_train_concat['pos_filtered'].apply(lambda a: a.split(\"'\")[1:-1])\n",
    "# pos_filtered 컬럼은 하나의 스트링이 한 리스트 안에 들어가 있는 형태이므로\n",
    "# 스트링의 쿼트를 기준으로 split해서 대괄호와 스트링을 분리한 후 스트링만 리스트에 남긴다\n",
    "\n",
    "# rating, pos 컬럼도 작업이 필요하지만 pos 컬럼은 완벽하게 작업 현재로서는 불가\n",
    "df_train_concat['rating'] = df_train_concat['rating'].apply(lambda a: str(a))"
   ]
  },
  {
   "cell_type": "code",
   "execution_count": 33,
   "metadata": {},
   "outputs": [
    {
     "data": {
      "text/plain": [
       "\"['좋,']\""
      ]
     },
     "metadata": {},
     "output_type": "display_data"
    },
    {
     "data": {
      "text/plain": [
       "['[', '좋,', ']']"
      ]
     },
     "metadata": {},
     "output_type": "display_data"
    },
    {
     "data": {
      "text/plain": [
       "['좋,']"
      ]
     },
     "metadata": {},
     "output_type": "display_data"
    }
   ],
   "source": [
    "# display(df_train_2[i][3742])\n",
    "# display(df_train_2[i][3742].split(\"'\"))\n",
    "# display(df_train_2[i][3742].split(\"'\")[1:-1])"
   ]
  },
  {
   "cell_type": "code",
   "execution_count": 34,
   "metadata": {
    "scrolled": true
   },
   "outputs": [],
   "source": [
    "# col_ls = list(df_train.columns)\n",
    "# for i in col_ls:\n",
    "#     display(df_train[i][3742])\n",
    "#     display(df_train_2[i][3742])\n",
    "#     display(df_train[i][3742] == df_train_2[i][3742])"
   ]
  },
  {
   "cell_type": "code",
   "execution_count": 7,
   "metadata": {},
   "outputs": [],
   "source": [
    "X_train = f.Vectorizer_train(df_train, 'Storage', stop_words=['고'])\n",
    "y_train = df_train['rating_filtered']"
   ]
  },
  {
   "cell_type": "code",
   "execution_count": 8,
   "metadata": {},
   "outputs": [
    {
     "name": "stdout",
     "output_type": "stream",
     "text": [
      "             precision    recall  f1-score   support\n",
      "\n",
      "          0       0.78      0.68      0.73       533\n",
      "          1       0.96      0.98      0.97      4624\n",
      "\n",
      "avg / total       0.94      0.95      0.95      5157\n",
      "\n"
     ]
    }
   ],
   "source": [
    "from sklearn.naive_bayes import MultinomialNB\n",
    "from sklearn.metrics import classification_report\n",
    "import pickle\n",
    "\n",
    "model = MultinomialNB()\n",
    "model.fit(X_train, y_train)\n",
    "y_train_pred = model.predict(X_train)\n",
    "print(classification_report(y_train, y_train_pred))\n",
    "# pickle.dump(model, open('model_Storage_0_100_5357.pkl', \"wb\"))"
   ]
  },
  {
   "cell_type": "code",
   "execution_count": 9,
   "metadata": {},
   "outputs": [
    {
     "name": "stdout",
     "output_type": "stream",
     "text": [
      "제이디퍼니처 로미 3단 서랍장's Review Total Count : 354\n",
      "제이디퍼니처 로미 3단 서랍장's Filtered Review Count : 177\n"
     ]
    }
   ],
   "source": [
    "df_test = f.make_df_test(\"http://www.coupang.com/vp/products/24070993?itemId=93723572&vendorItemId=3165658357&q=%EC%88%98%EB%82%A9%EC%9E%A5&itemsCount=36&searchId=6c94cf7aa1884428bfcc5f39c8e7d63e&rank=7\")"
   ]
  },
  {
   "cell_type": "code",
   "execution_count": 10,
   "metadata": {},
   "outputs": [],
   "source": [
    "X_test, voca = f.Vectorizer_test(df_test, 'Storage')\n",
    "y_test = df_test['rating_filtered']"
   ]
  },
  {
   "cell_type": "code",
   "execution_count": 12,
   "metadata": {},
   "outputs": [
    {
     "name": "stdout",
     "output_type": "stream",
     "text": [
      "             precision    recall  f1-score   support\n",
      "\n",
      "          0       0.83      0.53      0.65        19\n",
      "          1       0.95      0.99      0.97       158\n",
      "\n",
      "avg / total       0.93      0.94      0.93       177\n",
      "\n"
     ]
    }
   ],
   "source": [
    "# model = pickle.load(open(\"model_BED_0_100_5357.pkl\", \"rb\"))\n",
    "y_test_pred = model.predict(X_test)\n",
    "print(classification_report(y_test, y_test_pred))"
   ]
  },
  {
   "cell_type": "code",
   "execution_count": null,
   "metadata": {},
   "outputs": [],
   "source": []
  },
  {
   "cell_type": "code",
   "execution_count": 13,
   "metadata": {},
   "outputs": [
    {
     "data": {
      "text/html": [
       "<div>\n",
       "<style scoped>\n",
       "    .dataframe tbody tr th:only-of-type {\n",
       "        vertical-align: middle;\n",
       "    }\n",
       "\n",
       "    .dataframe tbody tr th {\n",
       "        vertical-align: top;\n",
       "    }\n",
       "\n",
       "    .dataframe thead th {\n",
       "        text-align: right;\n",
       "    }\n",
       "</style>\n",
       "<table border=\"1\" class=\"dataframe\">\n",
       "  <thead>\n",
       "    <tr style=\"text-align: right;\">\n",
       "      <th></th>\n",
       "      <th>word</th>\n",
       "      <th>count</th>\n",
       "    </tr>\n",
       "  </thead>\n",
       "  <tbody>\n",
       "    <tr>\n",
       "      <th>0</th>\n",
       "      <td>교환</td>\n",
       "      <td>9</td>\n",
       "    </tr>\n",
       "    <tr>\n",
       "      <th>1</th>\n",
       "      <td>싸</td>\n",
       "      <td>5</td>\n",
       "    </tr>\n",
       "    <tr>\n",
       "      <th>2</th>\n",
       "      <td>물건</td>\n",
       "      <td>5</td>\n",
       "    </tr>\n",
       "    <tr>\n",
       "      <th>3</th>\n",
       "      <td>제품</td>\n",
       "      <td>4</td>\n",
       "    </tr>\n",
       "    <tr>\n",
       "      <th>4</th>\n",
       "      <td>불량</td>\n",
       "      <td>4</td>\n",
       "    </tr>\n",
       "    <tr>\n",
       "      <th>5</th>\n",
       "      <td>너무</td>\n",
       "      <td>4</td>\n",
       "    </tr>\n",
       "    <tr>\n",
       "      <th>6</th>\n",
       "      <td>실망</td>\n",
       "      <td>4</td>\n",
       "    </tr>\n",
       "    <tr>\n",
       "      <th>7</th>\n",
       "      <td>신청</td>\n",
       "      <td>4</td>\n",
       "    </tr>\n",
       "    <tr>\n",
       "      <th>8</th>\n",
       "      <td>가격</td>\n",
       "      <td>3</td>\n",
       "    </tr>\n",
       "    <tr>\n",
       "      <th>9</th>\n",
       "      <td>그냥</td>\n",
       "      <td>3</td>\n",
       "    </tr>\n",
       "    <tr>\n",
       "      <th>10</th>\n",
       "      <td>같</td>\n",
       "      <td>3</td>\n",
       "    </tr>\n",
       "    <tr>\n",
       "      <th>11</th>\n",
       "      <td>후</td>\n",
       "      <td>3</td>\n",
       "    </tr>\n",
       "    <tr>\n",
       "      <th>12</th>\n",
       "      <td>정도</td>\n",
       "      <td>3</td>\n",
       "    </tr>\n",
       "    <tr>\n",
       "      <th>13</th>\n",
       "      <td>건</td>\n",
       "      <td>3</td>\n",
       "    </tr>\n",
       "    <tr>\n",
       "      <th>14</th>\n",
       "      <td>면</td>\n",
       "      <td>3</td>\n",
       "    </tr>\n",
       "  </tbody>\n",
       "</table>\n",
       "</div>"
      ],
      "text/plain": [
       "   word  count\n",
       "0    교환      9\n",
       "1     싸      5\n",
       "2    물건      5\n",
       "3    제품      4\n",
       "4    불량      4\n",
       "5    너무      4\n",
       "6    실망      4\n",
       "7    신청      4\n",
       "8    가격      3\n",
       "9    그냥      3\n",
       "10    같      3\n",
       "11    후      3\n",
       "12   정도      3\n",
       "13    건      3\n",
       "14    면      3"
      ]
     },
     "execution_count": 13,
     "metadata": {},
     "output_type": "execute_result"
    }
   ],
   "source": [
    "f.top_word_negative(X_test, y_test_pred, voca, 15)"
   ]
  },
  {
   "cell_type": "code",
   "execution_count": 14,
   "metadata": {},
   "outputs": [
    {
     "data": {
      "text/html": [
       "<div>\n",
       "<style scoped>\n",
       "    .dataframe tbody tr th:only-of-type {\n",
       "        vertical-align: middle;\n",
       "    }\n",
       "\n",
       "    .dataframe tbody tr th {\n",
       "        vertical-align: top;\n",
       "    }\n",
       "\n",
       "    .dataframe thead th {\n",
       "        text-align: right;\n",
       "    }\n",
       "</style>\n",
       "<table border=\"1\" class=\"dataframe\">\n",
       "  <thead>\n",
       "    <tr style=\"text-align: right;\">\n",
       "      <th></th>\n",
       "      <th>word</th>\n",
       "      <th>count</th>\n",
       "    </tr>\n",
       "  </thead>\n",
       "  <tbody>\n",
       "    <tr>\n",
       "      <th>0</th>\n",
       "      <td>좋</td>\n",
       "      <td>93</td>\n",
       "    </tr>\n",
       "    <tr>\n",
       "      <th>1</th>\n",
       "      <td>서랍</td>\n",
       "      <td>48</td>\n",
       "    </tr>\n",
       "    <tr>\n",
       "      <th>2</th>\n",
       "      <td>생각</td>\n",
       "      <td>38</td>\n",
       "    </tr>\n",
       "    <tr>\n",
       "      <th>3</th>\n",
       "      <td>작</td>\n",
       "      <td>32</td>\n",
       "    </tr>\n",
       "    <tr>\n",
       "      <th>4</th>\n",
       "      <td>딱</td>\n",
       "      <td>30</td>\n",
       "    </tr>\n",
       "    <tr>\n",
       "      <th>5</th>\n",
       "      <td>구매</td>\n",
       "      <td>29</td>\n",
       "    </tr>\n",
       "    <tr>\n",
       "      <th>6</th>\n",
       "      <td>같</td>\n",
       "      <td>29</td>\n",
       "    </tr>\n",
       "    <tr>\n",
       "      <th>7</th>\n",
       "      <td>가격</td>\n",
       "      <td>27</td>\n",
       "    </tr>\n",
       "    <tr>\n",
       "      <th>8</th>\n",
       "      <td>잘</td>\n",
       "      <td>23</td>\n",
       "    </tr>\n",
       "    <tr>\n",
       "      <th>9</th>\n",
       "      <td>배송</td>\n",
       "      <td>21</td>\n",
       "    </tr>\n",
       "    <tr>\n",
       "      <th>10</th>\n",
       "      <td>지만</td>\n",
       "      <td>20</td>\n",
       "    </tr>\n",
       "    <tr>\n",
       "      <th>11</th>\n",
       "      <td>이쁘</td>\n",
       "      <td>18</td>\n",
       "    </tr>\n",
       "    <tr>\n",
       "      <th>12</th>\n",
       "      <td>안</td>\n",
       "      <td>17</td>\n",
       "    </tr>\n",
       "    <tr>\n",
       "      <th>13</th>\n",
       "      <td>만족</td>\n",
       "      <td>17</td>\n",
       "    </tr>\n",
       "    <tr>\n",
       "      <th>14</th>\n",
       "      <td>사이즈</td>\n",
       "      <td>16</td>\n",
       "    </tr>\n",
       "    <tr>\n",
       "      <th>15</th>\n",
       "      <td>깔끔</td>\n",
       "      <td>16</td>\n",
       "    </tr>\n",
       "    <tr>\n",
       "      <th>16</th>\n",
       "      <td>디자인</td>\n",
       "      <td>15</td>\n",
       "    </tr>\n",
       "    <tr>\n",
       "      <th>17</th>\n",
       "      <td>너무</td>\n",
       "      <td>15</td>\n",
       "    </tr>\n",
       "    <tr>\n",
       "      <th>18</th>\n",
       "      <td>주문</td>\n",
       "      <td>15</td>\n",
       "    </tr>\n",
       "    <tr>\n",
       "      <th>19</th>\n",
       "      <td>색상</td>\n",
       "      <td>14</td>\n",
       "    </tr>\n",
       "  </tbody>\n",
       "</table>\n",
       "</div>"
      ],
      "text/plain": [
       "   word  count\n",
       "0     좋     93\n",
       "1    서랍     48\n",
       "2    생각     38\n",
       "3     작     32\n",
       "4     딱     30\n",
       "5    구매     29\n",
       "6     같     29\n",
       "7    가격     27\n",
       "8     잘     23\n",
       "9    배송     21\n",
       "10   지만     20\n",
       "11   이쁘     18\n",
       "12    안     17\n",
       "13   만족     17\n",
       "14  사이즈     16\n",
       "15   깔끔     16\n",
       "16  디자인     15\n",
       "17   너무     15\n",
       "18   주문     15\n",
       "19   색상     14"
      ]
     },
     "execution_count": 14,
     "metadata": {},
     "output_type": "execute_result"
    }
   ],
   "source": [
    "f.top_word_positive(X_test, y_test_pred, voca, 20)"
   ]
  },
  {
   "cell_type": "code",
   "execution_count": 25,
   "metadata": {},
   "outputs": [
    {
     "data": {
      "text/plain": [
       "(31, 203)"
      ]
     },
     "execution_count": 25,
     "metadata": {},
     "output_type": "execute_result"
    }
   ],
   "source": [
    "f.neg_or_pos(y_test_pred)"
   ]
  },
  {
   "cell_type": "code",
   "execution_count": null,
   "metadata": {},
   "outputs": [],
   "source": [
    "n-그램 해보기, 위 결과에서 그냥 pos부착해서 명사만 반환하게 해보기"
   ]
  }
 ],
 "metadata": {
  "kernelspec": {
   "display_name": "Python 3",
   "language": "python",
   "name": "python3"
  },
  "language_info": {
   "codemirror_mode": {
    "name": "ipython",
    "version": 3
   },
   "file_extension": ".py",
   "mimetype": "text/x-python",
   "name": "python",
   "nbconvert_exporter": "python",
   "pygments_lexer": "ipython3",
   "version": "3.6.4"
  }
 },
 "nbformat": 4,
 "nbformat_minor": 2
}
