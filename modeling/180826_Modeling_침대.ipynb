{
 "cells": [
  {
   "cell_type": "code",
   "execution_count": 1,
   "metadata": {},
   "outputs": [],
   "source": [
    "import function as f"
   ]
  },
  {
   "cell_type": "code",
   "execution_count": 2,
   "metadata": {
    "scrolled": true
   },
   "outputs": [
    {
     "name": "stdout",
     "output_type": "stream",
     "text": [
      "0번째 item 66107016의 review 수 : 107\n",
      "1번째 item 98321171의 review 수 : 1\n",
      "2번째 item 44831973의 review 수 : 569\n",
      "3번째 item 3436115의 review 수 : 279\n",
      "4번째 item 39024548의 review 수 : 198\n",
      "5번째 item 102336253의 review 수 : 2525\n",
      "6번째 item 13351098의 review 수 : 209\n",
      "7번째 item 30354371의 review 수 : 451\n",
      "8번째 item 3436115의 review 수 : 279\n",
      "9번째 item 4276478의 review 수 : 121\n",
      "10번째 item 5155530의 review 수 : 113\n",
      "11번째 item 90440244의 review 수 : 1\n",
      "12번째 item 44831856의 review 수 : 16\n",
      "13번째 item 1410491의 review 수 : 116\n",
      "14번째 item 98381219의 review 수 : 69\n",
      "15번째 item 25291859의 review 수 : 42\n",
      "16번째 item 27353327의 review 수 : 38\n",
      "17번째 item 102570053의 review 수 : 13\n",
      "18번째 item 10093041의 review 수 : 65\n",
      "19번째 item 43055848의 review 수 : 32\n",
      "20번째 item 3439472의 review 수 : 54\n",
      "21번째 item 27353327의 review 수 : 38\n",
      "22번째 item 48730257의 review 수 : 11\n",
      "23번째 item 13632304의 review 수 : 106\n",
      "24번째 item 70069308의 review 수 : 3\n",
      "25번째 item 3439472의 review 수 : 54\n",
      "26번째 item 25296055의 review 수 : 17\n",
      "No reviews\n",
      "28번째 item 60539649의 review 수 : 3\n",
      "29번째 item 41068720의 review 수 : 18\n",
      "30번째 item 40546256의 review 수 : 213\n",
      "31번째 item 39480959의 review 수 : 36\n",
      "32번째 item 39024548의 review 수 : 198\n",
      "33번째 item 700186의 review 수 : 89\n",
      "34번째 item 30354371의 review 수 : 451\n",
      "35번째 item 8468924의 review 수 : 146\n",
      "36번째 item 39480959의 review 수 : 36\n",
      "37번째 item 72552085의 review 수 : 1\n",
      "38번째 item 3423413의 review 수 : 31\n",
      "39번째 item 48730257의 review 수 : 11\n",
      "No reviews\n",
      "41번째 item 1914182의 review 수 : 793\n",
      "42번째 item 60536858의 review 수 : 5\n",
      "43번째 item 1410491의 review 수 : 116\n",
      "44번째 item 9493520의 review 수 : 2\n",
      "45번째 item 9960553의 review 수 : 65\n",
      "46번째 item 24931463의 review 수 : 25\n",
      "47번째 item 39203874의 review 수 : 119\n",
      "48번째 item 18030951의 review 수 : 2\n",
      "49번째 item 1705276의 review 수 : 17\n",
      "50번째 item 34041148의 review 수 : 58\n",
      "51번째 item 48730257의 review 수 : 11\n",
      "52번째 item 5500582의 review 수 : 27\n",
      "53번째 item 54912201의 review 수 : 13\n",
      "54번째 item 36349724의 review 수 : 26\n",
      "55번째 item 98381219의 review 수 : 69\n",
      "56번째 item 98281421의 review 수 : 1\n",
      "57번째 item 28876716의 review 수 : 28\n",
      "58번째 item 27483676의 review 수 : 5\n",
      "59번째 item 34041148의 review 수 : 58\n",
      "60번째 item 4276478의 review 수 : 121\n",
      "61번째 item 17679340의 review 수 : 35\n",
      "62번째 item 29439423의 review 수 : 334\n",
      "63번째 item 23976504의 review 수 : 52\n",
      "No reviews\n",
      "65번째 item 3436256의 review 수 : 78\n",
      "66번째 item 12445381의 review 수 : 4\n",
      "67번째 item 3436657의 review 수 : 9\n",
      "68번째 item 13632304의 review 수 : 106\n",
      "69번째 item 16894484의 review 수 : 41\n",
      "70번째 item 77463259의 review 수 : 1\n",
      "71번째 item 23017734의 review 수 : 6\n",
      "72번째 item 72681809의 review 수 : 7\n",
      "73번째 item 39056215의 review 수 : 208\n",
      "74번째 item 9551199의 review 수 : 120\n",
      "75번째 item 23165006의 review 수 : 247\n",
      "76번째 item 35781568의 review 수 : 6\n",
      "77번째 item 765528의 review 수 : 47\n",
      "78번째 item 3457454의 review 수 : 9\n",
      "79번째 item 15088852의 review 수 : 146\n",
      "80번째 item 29584661의 review 수 : 511\n",
      "81번째 item 3438320의 review 수 : 19\n",
      "82번째 item 24723233의 review 수 : 48\n",
      "83번째 item 22664204의 review 수 : 8\n",
      "84번째 item 54912201의 review 수 : 13\n",
      "85번째 item 3433072의 review 수 : 18\n",
      "86번째 item 23755842의 review 수 : 16\n",
      "87번째 item 24723233의 review 수 : 48\n",
      "88번째 item 3743120의 review 수 : 49\n",
      "89번째 item 9071135의 review 수 : 38\n",
      "90번째 item 16689262의 review 수 : 13\n",
      "91번째 item 102570534의 review 수 : 48\n",
      "92번째 item 5621886의 review 수 : 364\n",
      "93번째 item 3743120의 review 수 : 49\n",
      "94번째 item 68171172의 review 수 : 2\n",
      "No reviews\n",
      "96번째 item 6177211의 review 수 : 9\n",
      "No reviews\n",
      "98번째 item 27495516의 review 수 : 3\n",
      "99번째 item 3743120의 review 수 : 49\n",
      "0번째부터 99번째 item의 총 review 수 : 11082\n"
     ]
    }
   ],
   "source": [
    "f.review_cnt_check('침대')"
   ]
  },
  {
   "cell_type": "code",
   "execution_count": 3,
   "metadata": {},
   "outputs": [
    {
     "name": "stdout",
     "output_type": "stream",
     "text": [
      "총 100개의 상품에서 중복제거 후 83개의 상품 크롤링\n",
      "100개 상품 중 review가 없는 상품 수 : 5\n",
      "침대's Top100 Review Total Count : 9375\n",
      "침대's Top100 Filtered Review Count : 5357\n",
      "Wall time: 9min 4s\n"
     ]
    }
   ],
   "source": [
    "%%time\n",
    "df_train = f.make_df_train('침대', 0, 100)"
   ]
  },
  {
   "cell_type": "code",
   "execution_count": 7,
   "metadata": {},
   "outputs": [
    {
     "data": {
      "text/html": [
       "<div>\n",
       "<style scoped>\n",
       "    .dataframe tbody tr th:only-of-type {\n",
       "        vertical-align: middle;\n",
       "    }\n",
       "\n",
       "    .dataframe tbody tr th {\n",
       "        vertical-align: top;\n",
       "    }\n",
       "\n",
       "    .dataframe thead th {\n",
       "        text-align: right;\n",
       "    }\n",
       "</style>\n",
       "<table border=\"1\" class=\"dataframe\">\n",
       "  <thead>\n",
       "    <tr style=\"text-align: right;\">\n",
       "      <th></th>\n",
       "      <th>rating</th>\n",
       "      <th>rating_filtered</th>\n",
       "      <th>item_nbr</th>\n",
       "      <th>item</th>\n",
       "      <th>option</th>\n",
       "      <th>date</th>\n",
       "      <th>name</th>\n",
       "      <th>full_review</th>\n",
       "      <th>pos</th>\n",
       "      <th>pos_filtered</th>\n",
       "    </tr>\n",
       "  </thead>\n",
       "  <tbody>\n",
       "    <tr>\n",
       "      <th>5352</th>\n",
       "      <td>4</td>\n",
       "      <td>1</td>\n",
       "      <td>39480959</td>\n",
       "      <td>보니애가구 엘스카르 슈퍼싱글 소나무 원목 침대 프레임 SS</td>\n",
       "      <td>스노우화이트</td>\n",
       "      <td>2018.08.23</td>\n",
       "      <td>한*라</td>\n",
       "      <td>.  설치기사님 오셔서 설치 다해주시고  디자인도 너무 이뻐서 가격대비 넘 좋아요 ...</td>\n",
       "      <td>[(., SF), (설치, NNG), (기사님, NNP), (오시, VV), (어서...</td>\n",
       "      <td>[설치,기사님,설치,고,디자인,너무,이쁘,가격,대비,좋,단지,가운데,지지,다리,약하...</td>\n",
       "    </tr>\n",
       "    <tr>\n",
       "      <th>5353</th>\n",
       "      <td>4</td>\n",
       "      <td>1</td>\n",
       "      <td>39480959</td>\n",
       "      <td>보니애가구 엘스카르 슈퍼싱글 소나무 원목 침대 프레임 SS</td>\n",
       "      <td>스노우화이트</td>\n",
       "      <td>2018.06.02</td>\n",
       "      <td>이*욱</td>\n",
       "      <td>.  배송에 대한 부분은 다른 분들처럼 아쉬움이 있습니다 구매 이후 연락을 해서 언...</td>\n",
       "      <td>[(., SF), (배송, NNG), (에, JKM), (대하, VV), (ㄴ, E...</td>\n",
       "      <td>[배송,부분,분,아쉬움,이후,연락,언제,배송,같,제가,전,어찌,고,깜깜,다만,제품,...</td>\n",
       "    </tr>\n",
       "    <tr>\n",
       "      <th>5354</th>\n",
       "      <td>4</td>\n",
       "      <td>1</td>\n",
       "      <td>39480959</td>\n",
       "      <td>보니애가구 엘스카르 슈퍼싱글 소나무 원목 침대 프레임 SS</td>\n",
       "      <td>스노우화이트</td>\n",
       "      <td>2018.06.25</td>\n",
       "      <td>김*원</td>\n",
       "      <td>.  튼튼한 원목에 도장도 깔끔하고 마감도 잘되어있고 튼튼합니다.배송도 적당했구요....</td>\n",
       "      <td>[(., SF), (튼튼, NNP), (하, XSV), (ㄴ, ETD), (원목, ...</td>\n",
       "      <td>[튼튼,원목,도장,깔끔,고,마감,고,튼튼,배송,적당,다만,냄새,좀,며칠,환기,고,]</td>\n",
       "    </tr>\n",
       "    <tr>\n",
       "      <th>5355</th>\n",
       "      <td>5</td>\n",
       "      <td>1</td>\n",
       "      <td>39480959</td>\n",
       "      <td>보니애가구 엘스카르 슈퍼싱글 소나무 원목 침대 프레임 SS</td>\n",
       "      <td>스노우화이트</td>\n",
       "      <td>2018.05.21</td>\n",
       "      <td>BJH</td>\n",
       "      <td>.  아주 흰색이아니라 약간 아이보리예요.  예뻐요..튼튼하고 기대 이상입니다!</td>\n",
       "      <td>[(., SF), (아주, MAG), (흰색, NNG), (이, JKC), (아니,...</td>\n",
       "      <td>[아주,흰색,약간,아이보리,예쁘,튼튼,고,기대,이상,]</td>\n",
       "    </tr>\n",
       "    <tr>\n",
       "      <th>5356</th>\n",
       "      <td>5</td>\n",
       "      <td>1</td>\n",
       "      <td>39480959</td>\n",
       "      <td>보니애가구 엘스카르 슈퍼싱글 소나무 원목 침대 프레임 SS</td>\n",
       "      <td>마린그레이</td>\n",
       "      <td>2018.05.28</td>\n",
       "      <td>박*준</td>\n",
       "      <td>.  마린그레이 그레이테마에 잘어울림 엄청이쁨</td>\n",
       "      <td>[(., SF), (마린, NNG), (그레이, NNG), (그레이, NNG), (...</td>\n",
       "      <td>[마린,그레이,그레이,테마,잘,어울림,엄청,이쁘,]</td>\n",
       "    </tr>\n",
       "  </tbody>\n",
       "</table>\n",
       "</div>"
      ],
      "text/plain": [
       "     rating  rating_filtered  item_nbr                              item  \\\n",
       "5352      4                1  39480959  보니애가구 엘스카르 슈퍼싱글 소나무 원목 침대 프레임 SS   \n",
       "5353      4                1  39480959  보니애가구 엘스카르 슈퍼싱글 소나무 원목 침대 프레임 SS   \n",
       "5354      4                1  39480959  보니애가구 엘스카르 슈퍼싱글 소나무 원목 침대 프레임 SS   \n",
       "5355      5                1  39480959  보니애가구 엘스카르 슈퍼싱글 소나무 원목 침대 프레임 SS   \n",
       "5356      5                1  39480959  보니애가구 엘스카르 슈퍼싱글 소나무 원목 침대 프레임 SS   \n",
       "\n",
       "       option        date name  \\\n",
       "5352   스노우화이트  2018.08.23  한*라   \n",
       "5353   스노우화이트  2018.06.02  이*욱   \n",
       "5354   스노우화이트  2018.06.25  김*원   \n",
       "5355   스노우화이트  2018.05.21  BJH   \n",
       "5356    마린그레이  2018.05.28  박*준   \n",
       "\n",
       "                                            full_review  \\\n",
       "5352  .  설치기사님 오셔서 설치 다해주시고  디자인도 너무 이뻐서 가격대비 넘 좋아요 ...   \n",
       "5353  .  배송에 대한 부분은 다른 분들처럼 아쉬움이 있습니다 구매 이후 연락을 해서 언...   \n",
       "5354  .  튼튼한 원목에 도장도 깔끔하고 마감도 잘되어있고 튼튼합니다.배송도 적당했구요....   \n",
       "5355    .  아주 흰색이아니라 약간 아이보리예요.  예뻐요..튼튼하고 기대 이상입니다!      \n",
       "5356                       .  마린그레이 그레이테마에 잘어울림 엄청이쁨      \n",
       "\n",
       "                                                    pos  \\\n",
       "5352  [(., SF), (설치, NNG), (기사님, NNP), (오시, VV), (어서...   \n",
       "5353  [(., SF), (배송, NNG), (에, JKM), (대하, VV), (ㄴ, E...   \n",
       "5354  [(., SF), (튼튼, NNP), (하, XSV), (ㄴ, ETD), (원목, ...   \n",
       "5355  [(., SF), (아주, MAG), (흰색, NNG), (이, JKC), (아니,...   \n",
       "5356  [(., SF), (마린, NNG), (그레이, NNG), (그레이, NNG), (...   \n",
       "\n",
       "                                           pos_filtered  \n",
       "5352  [설치,기사님,설치,고,디자인,너무,이쁘,가격,대비,좋,단지,가운데,지지,다리,약하...  \n",
       "5353  [배송,부분,분,아쉬움,이후,연락,언제,배송,같,제가,전,어찌,고,깜깜,다만,제품,...  \n",
       "5354     [튼튼,원목,도장,깔끔,고,마감,고,튼튼,배송,적당,다만,냄새,좀,며칠,환기,고,]  \n",
       "5355                     [아주,흰색,약간,아이보리,예쁘,튼튼,고,기대,이상,]  \n",
       "5356                       [마린,그레이,그레이,테마,잘,어울림,엄청,이쁘,]  "
      ]
     },
     "metadata": {},
     "output_type": "display_data"
    }
   ],
   "source": [
    "display(df_train.tail())"
   ]
  },
  {
   "cell_type": "code",
   "execution_count": 84,
   "metadata": {},
   "outputs": [],
   "source": [
    "# 크롤링 raw 데이터와 read_csv로 가져온 데이터 concat하지 말 것\n",
    "# 데이터 타입 다름!!"
   ]
  },
  {
   "cell_type": "code",
   "execution_count": 37,
   "metadata": {},
   "outputs": [],
   "source": [
    "import csv\n",
    "df_train.to_csv(\"keyword1_50_100.csv\", index=False)"
   ]
  },
  {
   "cell_type": "code",
   "execution_count": 57,
   "metadata": {},
   "outputs": [],
   "source": [
    "df_train_1 = pd.read_csv(\"keyword1_0_10.csv\")\n",
    "df_train_2 = pd.read_csv(\"keyword1_10_50.csv\")\n",
    "df_train_3 = pd.read_csv(\"keyword1_50_100.csv\")"
   ]
  },
  {
   "cell_type": "code",
   "execution_count": 61,
   "metadata": {},
   "outputs": [],
   "source": [
    "df_train_concat = pd.concat([df_train_1, df_train_2, df_train_3]).reset_index()"
   ]
  },
  {
   "cell_type": "code",
   "execution_count": 62,
   "metadata": {},
   "outputs": [
    {
     "data": {
      "text/plain": [
       "13806"
      ]
     },
     "execution_count": 62,
     "metadata": {},
     "output_type": "execute_result"
    }
   ],
   "source": [
    "len(df_train_concat)"
   ]
  },
  {
   "cell_type": "code",
   "execution_count": 64,
   "metadata": {},
   "outputs": [],
   "source": [
    "# pos_filtered 컬럼에 대해서 아래 작업 필수\n",
    "df_train_concat['pos_filtered'] = df_train_concat['pos_filtered'].apply(lambda a: a.split(\"'\")[1:-1])\n",
    "# pos_filtered 컬럼은 하나의 스트링이 한 리스트 안에 들어가 있는 형태이므로\n",
    "# 스트링의 쿼트를 기준으로 split해서 대괄호와 스트링을 분리한 후 스트링만 리스트에 남긴다\n",
    "\n",
    "# rating, pos 컬럼도 작업이 필요하지만 pos 컬럼은 완벽하게 작업 현재로서는 불가\n",
    "df_train_concat['rating'] = df_train_concat['rating'].apply(lambda a: str(a))"
   ]
  },
  {
   "cell_type": "code",
   "execution_count": 33,
   "metadata": {},
   "outputs": [
    {
     "data": {
      "text/plain": [
       "\"['좋,']\""
      ]
     },
     "metadata": {},
     "output_type": "display_data"
    },
    {
     "data": {
      "text/plain": [
       "['[', '좋,', ']']"
      ]
     },
     "metadata": {},
     "output_type": "display_data"
    },
    {
     "data": {
      "text/plain": [
       "['좋,']"
      ]
     },
     "metadata": {},
     "output_type": "display_data"
    }
   ],
   "source": [
    "# display(df_train_2[i][3742])\n",
    "# display(df_train_2[i][3742].split(\"'\"))\n",
    "# display(df_train_2[i][3742].split(\"'\")[1:-1])"
   ]
  },
  {
   "cell_type": "code",
   "execution_count": 34,
   "metadata": {
    "scrolled": true
   },
   "outputs": [],
   "source": [
    "# col_ls = list(df_train.columns)\n",
    "# for i in col_ls:\n",
    "#     display(df_train[i][3742])\n",
    "#     display(df_train_2[i][3742])\n",
    "#     display(df_train[i][3742] == df_train_2[i][3742])"
   ]
  },
  {
   "cell_type": "code",
   "execution_count": 17,
   "metadata": {},
   "outputs": [],
   "source": [
    "X_train = f.Vectorizer_train(df_train, 'BED', stop_words=['고'])\n",
    "y_train = df_train['rating_filtered']"
   ]
  },
  {
   "cell_type": "code",
   "execution_count": 18,
   "metadata": {},
   "outputs": [
    {
     "name": "stdout",
     "output_type": "stream",
     "text": [
      "             precision    recall  f1-score   support\n",
      "\n",
      "          0       0.85      0.56      0.67       465\n",
      "          1       0.96      0.99      0.97      4892\n",
      "\n",
      "avg / total       0.95      0.95      0.95      5357\n",
      "\n"
     ]
    }
   ],
   "source": [
    "from sklearn.naive_bayes import MultinomialNB\n",
    "from sklearn.metrics import classification_report\n",
    "import pickle\n",
    "\n",
    "model = MultinomialNB()\n",
    "model.fit(X_train, y_train)\n",
    "y_train_pred = model.predict(X_train)\n",
    "print(classification_report(y_train, y_train_pred))\n",
    "pickle.dump(model, open('model_BED_0_100_5357.pkl', \"wb\"))"
   ]
  },
  {
   "cell_type": "code",
   "execution_count": 9,
   "metadata": {},
   "outputs": [
    {
     "name": "stdout",
     "output_type": "stream",
     "text": [
      "가이온 힐마루 단면매트리스 침대 다리포함's Review Total Count : 451\n",
      "가이온 힐마루 단면매트리스 침대 다리포함's Filtered Review Count : 234\n"
     ]
    }
   ],
   "source": [
    "df_test = f.make_df_test(\"http://www.coupang.com/vp/products/30354371?itemId=204576553&vendorItemId=3484617893&q=%EC%B9%A8%EB%8C%80&itemsCount=36&searchId=195c4c1b2545422187b54167afdd5b8c&rank=34\")"
   ]
  },
  {
   "cell_type": "code",
   "execution_count": 19,
   "metadata": {},
   "outputs": [],
   "source": [
    "X_test, voca = f.Vectorizer_test(df_test, 'BED')\n",
    "y_test = df_test['rating_filtered']"
   ]
  },
  {
   "cell_type": "code",
   "execution_count": 20,
   "metadata": {},
   "outputs": [
    {
     "name": "stdout",
     "output_type": "stream",
     "text": [
      "             precision    recall  f1-score   support\n",
      "\n",
      "          0       0.84      0.58      0.68        45\n",
      "          1       0.91      0.97      0.94       189\n",
      "\n",
      "avg / total       0.89      0.90      0.89       234\n",
      "\n"
     ]
    }
   ],
   "source": [
    "model = pickle.load(open(\"model_BED_0_100_5357.pkl\", \"rb\"))\n",
    "y_test_pred = model.predict(X_test)\n",
    "print(classification_report(y_test, y_test_pred))"
   ]
  },
  {
   "cell_type": "code",
   "execution_count": null,
   "metadata": {},
   "outputs": [],
   "source": []
  },
  {
   "cell_type": "code",
   "execution_count": 26,
   "metadata": {},
   "outputs": [
    {
     "data": {
      "text/html": [
       "<div>\n",
       "<style scoped>\n",
       "    .dataframe tbody tr th:only-of-type {\n",
       "        vertical-align: middle;\n",
       "    }\n",
       "\n",
       "    .dataframe tbody tr th {\n",
       "        vertical-align: top;\n",
       "    }\n",
       "\n",
       "    .dataframe thead th {\n",
       "        text-align: right;\n",
       "    }\n",
       "</style>\n",
       "<table border=\"1\" class=\"dataframe\">\n",
       "  <thead>\n",
       "    <tr style=\"text-align: right;\">\n",
       "      <th></th>\n",
       "      <th>word</th>\n",
       "      <th>count</th>\n",
       "    </tr>\n",
       "  </thead>\n",
       "  <tbody>\n",
       "    <tr>\n",
       "      <th>0</th>\n",
       "      <td>배송</td>\n",
       "      <td>32</td>\n",
       "    </tr>\n",
       "    <tr>\n",
       "      <th>1</th>\n",
       "      <td>침대</td>\n",
       "      <td>18</td>\n",
       "    </tr>\n",
       "    <tr>\n",
       "      <th>2</th>\n",
       "      <td>안</td>\n",
       "      <td>17</td>\n",
       "    </tr>\n",
       "    <tr>\n",
       "      <th>3</th>\n",
       "      <td>다리</td>\n",
       "      <td>16</td>\n",
       "    </tr>\n",
       "    <tr>\n",
       "      <th>4</th>\n",
       "      <td>더</td>\n",
       "      <td>14</td>\n",
       "    </tr>\n",
       "    <tr>\n",
       "      <th>5</th>\n",
       "      <td>같</td>\n",
       "      <td>11</td>\n",
       "    </tr>\n",
       "    <tr>\n",
       "      <th>6</th>\n",
       "      <td>너무</td>\n",
       "      <td>11</td>\n",
       "    </tr>\n",
       "    <tr>\n",
       "      <th>7</th>\n",
       "      <td>없</td>\n",
       "      <td>11</td>\n",
       "    </tr>\n",
       "    <tr>\n",
       "      <th>8</th>\n",
       "      <td>소리</td>\n",
       "      <td>10</td>\n",
       "    </tr>\n",
       "    <tr>\n",
       "      <th>9</th>\n",
       "      <td>스프링</td>\n",
       "      <td>10</td>\n",
       "    </tr>\n",
       "    <tr>\n",
       "      <th>10</th>\n",
       "      <td>전화</td>\n",
       "      <td>9</td>\n",
       "    </tr>\n",
       "    <tr>\n",
       "      <th>11</th>\n",
       "      <td>ㄴ데</td>\n",
       "      <td>8</td>\n",
       "    </tr>\n",
       "    <tr>\n",
       "      <th>12</th>\n",
       "      <td>그냥</td>\n",
       "      <td>7</td>\n",
       "    </tr>\n",
       "    <tr>\n",
       "      <th>13</th>\n",
       "      <td>면</td>\n",
       "      <td>7</td>\n",
       "    </tr>\n",
       "    <tr>\n",
       "      <th>14</th>\n",
       "      <td>주문</td>\n",
       "      <td>7</td>\n",
       "    </tr>\n",
       "  </tbody>\n",
       "</table>\n",
       "</div>"
      ],
      "text/plain": [
       "   word  count\n",
       "0    배송     32\n",
       "1    침대     18\n",
       "2     안     17\n",
       "3    다리     16\n",
       "4     더     14\n",
       "5     같     11\n",
       "6    너무     11\n",
       "7     없     11\n",
       "8    소리     10\n",
       "9   스프링     10\n",
       "10   전화      9\n",
       "11   ㄴ데      8\n",
       "12   그냥      7\n",
       "13    면      7\n",
       "14   주문      7"
      ]
     },
     "execution_count": 26,
     "metadata": {},
     "output_type": "execute_result"
    }
   ],
   "source": [
    "f.top_word_negative(X_test, y_test_pred, voca, 15)"
   ]
  },
  {
   "cell_type": "code",
   "execution_count": 28,
   "metadata": {},
   "outputs": [
    {
     "data": {
      "text/html": [
       "<div>\n",
       "<style scoped>\n",
       "    .dataframe tbody tr th:only-of-type {\n",
       "        vertical-align: middle;\n",
       "    }\n",
       "\n",
       "    .dataframe tbody tr th {\n",
       "        vertical-align: top;\n",
       "    }\n",
       "\n",
       "    .dataframe thead th {\n",
       "        text-align: right;\n",
       "    }\n",
       "</style>\n",
       "<table border=\"1\" class=\"dataframe\">\n",
       "  <thead>\n",
       "    <tr style=\"text-align: right;\">\n",
       "      <th></th>\n",
       "      <th>word</th>\n",
       "      <th>count</th>\n",
       "    </tr>\n",
       "  </thead>\n",
       "  <tbody>\n",
       "    <tr>\n",
       "      <th>0</th>\n",
       "      <td>좋</td>\n",
       "      <td>135</td>\n",
       "    </tr>\n",
       "    <tr>\n",
       "      <th>1</th>\n",
       "      <td>침대</td>\n",
       "      <td>119</td>\n",
       "    </tr>\n",
       "    <tr>\n",
       "      <th>2</th>\n",
       "      <td>배송</td>\n",
       "      <td>111</td>\n",
       "    </tr>\n",
       "    <tr>\n",
       "      <th>3</th>\n",
       "      <td>가격</td>\n",
       "      <td>81</td>\n",
       "    </tr>\n",
       "    <tr>\n",
       "      <th>4</th>\n",
       "      <td>소리</td>\n",
       "      <td>80</td>\n",
       "    </tr>\n",
       "    <tr>\n",
       "      <th>5</th>\n",
       "      <td>다리</td>\n",
       "      <td>72</td>\n",
       "    </tr>\n",
       "    <tr>\n",
       "      <th>6</th>\n",
       "      <td>지만</td>\n",
       "      <td>62</td>\n",
       "    </tr>\n",
       "    <tr>\n",
       "      <th>7</th>\n",
       "      <td>스프링</td>\n",
       "      <td>59</td>\n",
       "    </tr>\n",
       "    <tr>\n",
       "      <th>8</th>\n",
       "      <td>너무</td>\n",
       "      <td>58</td>\n",
       "    </tr>\n",
       "    <tr>\n",
       "      <th>9</th>\n",
       "      <td>면</td>\n",
       "      <td>58</td>\n",
       "    </tr>\n",
       "    <tr>\n",
       "      <th>10</th>\n",
       "      <td>기사님</td>\n",
       "      <td>50</td>\n",
       "    </tr>\n",
       "    <tr>\n",
       "      <th>11</th>\n",
       "      <td>잘</td>\n",
       "      <td>50</td>\n",
       "    </tr>\n",
       "    <tr>\n",
       "      <th>12</th>\n",
       "      <td>같</td>\n",
       "      <td>49</td>\n",
       "    </tr>\n",
       "    <tr>\n",
       "      <th>13</th>\n",
       "      <td>없</td>\n",
       "      <td>46</td>\n",
       "    </tr>\n",
       "    <tr>\n",
       "      <th>14</th>\n",
       "      <td>구매</td>\n",
       "      <td>43</td>\n",
       "    </tr>\n",
       "    <tr>\n",
       "      <th>15</th>\n",
       "      <td>설치</td>\n",
       "      <td>41</td>\n",
       "    </tr>\n",
       "    <tr>\n",
       "      <th>16</th>\n",
       "      <td>생각</td>\n",
       "      <td>40</td>\n",
       "    </tr>\n",
       "    <tr>\n",
       "      <th>17</th>\n",
       "      <td>괜찮</td>\n",
       "      <td>39</td>\n",
       "    </tr>\n",
       "    <tr>\n",
       "      <th>18</th>\n",
       "      <td>좀</td>\n",
       "      <td>38</td>\n",
       "    </tr>\n",
       "    <tr>\n",
       "      <th>19</th>\n",
       "      <td>매트리스</td>\n",
       "      <td>37</td>\n",
       "    </tr>\n",
       "  </tbody>\n",
       "</table>\n",
       "</div>"
      ],
      "text/plain": [
       "    word  count\n",
       "0      좋    135\n",
       "1     침대    119\n",
       "2     배송    111\n",
       "3     가격     81\n",
       "4     소리     80\n",
       "5     다리     72\n",
       "6     지만     62\n",
       "7    스프링     59\n",
       "8     너무     58\n",
       "9      면     58\n",
       "10   기사님     50\n",
       "11     잘     50\n",
       "12     같     49\n",
       "13     없     46\n",
       "14    구매     43\n",
       "15    설치     41\n",
       "16    생각     40\n",
       "17    괜찮     39\n",
       "18     좀     38\n",
       "19  매트리스     37"
      ]
     },
     "execution_count": 28,
     "metadata": {},
     "output_type": "execute_result"
    }
   ],
   "source": [
    "f.top_word_positive(X_test, y_test_pred, voca, 20)"
   ]
  },
  {
   "cell_type": "code",
   "execution_count": 25,
   "metadata": {},
   "outputs": [
    {
     "data": {
      "text/plain": [
       "(31, 203)"
      ]
     },
     "execution_count": 25,
     "metadata": {},
     "output_type": "execute_result"
    }
   ],
   "source": [
    "f.neg_or_pos(y_test_pred)"
   ]
  },
  {
   "cell_type": "code",
   "execution_count": null,
   "metadata": {},
   "outputs": [],
   "source": [
    "n-그램 해보기, 위 결과에서 그냥 pos부착해서 명사만 반환하게 해보기"
   ]
  }
 ],
 "metadata": {
  "kernelspec": {
   "display_name": "Python 3",
   "language": "python",
   "name": "python3"
  },
  "language_info": {
   "codemirror_mode": {
    "name": "ipython",
    "version": 3
   },
   "file_extension": ".py",
   "mimetype": "text/x-python",
   "name": "python",
   "nbconvert_exporter": "python",
   "pygments_lexer": "ipython3",
   "version": "3.6.4"
  }
 },
 "nbformat": 4,
 "nbformat_minor": 2
}
