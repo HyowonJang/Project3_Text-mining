{
 "cells": [
  {
   "cell_type": "code",
   "execution_count": 1,
   "metadata": {},
   "outputs": [],
   "source": [
    "import function as f"
   ]
  },
  {
   "cell_type": "code",
   "execution_count": 2,
   "metadata": {
    "scrolled": true
   },
   "outputs": [
    {
     "name": "stdout",
     "output_type": "stream",
     "text": [
      "0번째 item 25271683의 review 수 : 570\n",
      "1번째 item 57040999의 review 수 : 206\n",
      "2번째 item 14820704의 review 수 : 1480\n",
      "3번째 item 4889527의 review 수 : 3036\n",
      "4번째 item 60867504의 review 수 : 80\n",
      "5번째 item 49867193의 review 수 : 263\n",
      "6번째 item 88785654의 review 수 : 37\n",
      "7번째 item 1148353의 review 수 : 2412\n",
      "8번째 item 25271665의 review 수 : 690\n",
      "9번째 item 14820704의 review 수 : 1480\n",
      "10번째 item 4956527의 review 수 : 1771\n",
      "11번째 item 49867193의 review 수 : 263\n",
      "12번째 item 1148353의 review 수 : 2412\n",
      "13번째 item 1148365의 review 수 : 1538\n",
      "14번째 item 14820704의 review 수 : 1480\n",
      "15번째 item 4956527의 review 수 : 1771\n",
      "16번째 item 49867193의 review 수 : 263\n",
      "17번째 item 1148353의 review 수 : 2412\n",
      "18번째 item 1148365의 review 수 : 1538\n",
      "19번째 item 25271665의 review 수 : 690\n",
      "20번째 item 59340200의 review 수 : 42\n",
      "21번째 item 1632419의 review 수 : 349\n",
      "22번째 item 1148353의 review 수 : 2412\n",
      "23번째 item 87782199의 review 수 : 59\n",
      "24번째 item 14820704의 review 수 : 1480\n",
      "25번째 item 25271665의 review 수 : 690\n",
      "26번째 item 26660601의 review 수 : 403\n",
      "27번째 item 1148353의 review 수 : 2412\n",
      "28번째 item 20144525의 review 수 : 34\n",
      "29번째 item 14820708의 review 수 : 343\n",
      "30번째 item 87782199의 review 수 : 59\n",
      "31번째 item 4956527의 review 수 : 1771\n",
      "32번째 item 78265173의 review 수 : 29\n",
      "33번째 item 1148365의 review 수 : 1538\n",
      "34번째 item 103678834의 review 수 : 2\n",
      "35번째 item 26660601의 review 수 : 403\n",
      "0번째부터 99번째 item의 총 review 수 : 36418\n"
     ]
    }
   ],
   "source": [
    "f.review_cnt_check('외장하드')"
   ]
  },
  {
   "cell_type": "code",
   "execution_count": 36,
   "metadata": {},
   "outputs": [
    {
     "name": "stdout",
     "output_type": "stream",
     "text": [
      "총 100개의 상품에서 중복제거 후 33개의 상품 크롤링\n",
      "100개 상품 중 review가 없는 상품 수 : 0\n",
      "외장하드's Top100 Review Total Count : 12105\n",
      "외장하드's Top100 Filtered Review Count : 5226\n",
      "Wall time: 3min 49s\n"
     ]
    }
   ],
   "source": [
    "%%time\n",
    "df_train = f.make_df_train('외장하드', 50, 100)"
   ]
  },
  {
   "cell_type": "code",
   "execution_count": 4,
   "metadata": {},
   "outputs": [
    {
     "data": {
      "text/html": [
       "<div>\n",
       "<style scoped>\n",
       "    .dataframe tbody tr th:only-of-type {\n",
       "        vertical-align: middle;\n",
       "    }\n",
       "\n",
       "    .dataframe tbody tr th {\n",
       "        vertical-align: top;\n",
       "    }\n",
       "\n",
       "    .dataframe thead th {\n",
       "        text-align: right;\n",
       "    }\n",
       "</style>\n",
       "<table border=\"1\" class=\"dataframe\">\n",
       "  <thead>\n",
       "    <tr style=\"text-align: right;\">\n",
       "      <th></th>\n",
       "      <th>rating</th>\n",
       "      <th>rating_filtered</th>\n",
       "      <th>item_nbr</th>\n",
       "      <th>item</th>\n",
       "      <th>option</th>\n",
       "      <th>date</th>\n",
       "      <th>name</th>\n",
       "      <th>full_review</th>\n",
       "      <th>pos</th>\n",
       "      <th>pos_filtered</th>\n",
       "    </tr>\n",
       "  </thead>\n",
       "  <tbody>\n",
       "    <tr>\n",
       "      <th>4283</th>\n",
       "      <td>5</td>\n",
       "      <td>1</td>\n",
       "      <td>49867193</td>\n",
       "      <td>도시바 칸비오 어드밴스 외장하드 DTC920</td>\n",
       "      <td>2TB</td>\n",
       "      <td>2018.03.28</td>\n",
       "      <td>남*경</td>\n",
       "      <td>.  믿고 쓰는 도시바~  디자인도 좋아졌어요~</td>\n",
       "      <td>[(., SF), (믿, VV), (고, ECE), (쓰, VV), (는, ETD)...</td>\n",
       "      <td>[고,도시바,디자인,]</td>\n",
       "    </tr>\n",
       "    <tr>\n",
       "      <th>4284</th>\n",
       "      <td>5</td>\n",
       "      <td>1</td>\n",
       "      <td>49867193</td>\n",
       "      <td>도시바 칸비오 어드밴스 외장하드 DTC920</td>\n",
       "      <td>2TB</td>\n",
       "      <td>2018.03.24</td>\n",
       "      <td>윤*성</td>\n",
       "      <td>.  속도도 빠르고 컴팩트하니 귀엽네요</td>\n",
       "      <td>[(., SF), (속도, NNG), (도, JX), (빠르, VA), (고, EC...</td>\n",
       "      <td>[속도,빠르,고,컴팩트,귀엽,]</td>\n",
       "    </tr>\n",
       "    <tr>\n",
       "      <th>4285</th>\n",
       "      <td>5</td>\n",
       "      <td>1</td>\n",
       "      <td>49867193</td>\n",
       "      <td>도시바 칸비오 어드밴스 외장하드 DTC920</td>\n",
       "      <td>2TB</td>\n",
       "      <td>2018.03.12</td>\n",
       "      <td>고*성</td>\n",
       "      <td>.  굳 좋음</td>\n",
       "      <td>[(., SF), (굳, VV), (좋음, UN)]</td>\n",
       "      <td>[좋음,]</td>\n",
       "    </tr>\n",
       "    <tr>\n",
       "      <th>4286</th>\n",
       "      <td>5</td>\n",
       "      <td>1</td>\n",
       "      <td>49867193</td>\n",
       "      <td>도시바 칸비오 어드밴스 외장하드 DTC920</td>\n",
       "      <td>2TB</td>\n",
       "      <td>2018.03.07</td>\n",
       "      <td>강*</td>\n",
       "      <td>.  배송이 겁나빠르군용</td>\n",
       "      <td>[(., SF), (배송, NNG), (이, JKS), (겁, NNG), (나, V...</td>\n",
       "      <td>[배송,겁,빠르,]</td>\n",
       "    </tr>\n",
       "    <tr>\n",
       "      <th>4287</th>\n",
       "      <td>5</td>\n",
       "      <td>1</td>\n",
       "      <td>49867193</td>\n",
       "      <td>도시바 칸비오 어드밴스 외장하드 DTC920</td>\n",
       "      <td>2TB</td>\n",
       "      <td>2018.02.25</td>\n",
       "      <td>노*훈</td>\n",
       "      <td>.  아직 사용은 안 했지만 좋은 가격에 잘 샀습니다~</td>\n",
       "      <td>[(., SF), (아직, MAG), (사용, NNG), (은, JX), (안, M...</td>\n",
       "      <td>[아직,사용,안,지만,좋,가격,잘,]</td>\n",
       "    </tr>\n",
       "  </tbody>\n",
       "</table>\n",
       "</div>"
      ],
      "text/plain": [
       "     rating  rating_filtered  item_nbr                      item option  \\\n",
       "4283      5                1  49867193  도시바 칸비오 어드밴스 외장하드 DTC920    2TB   \n",
       "4284      5                1  49867193  도시바 칸비오 어드밴스 외장하드 DTC920    2TB   \n",
       "4285      5                1  49867193  도시바 칸비오 어드밴스 외장하드 DTC920    2TB   \n",
       "4286      5                1  49867193  도시바 칸비오 어드밴스 외장하드 DTC920    2TB   \n",
       "4287      5                1  49867193  도시바 칸비오 어드밴스 외장하드 DTC920    2TB   \n",
       "\n",
       "            date name                        full_review  \\\n",
       "4283  2018.03.28  남*경      .  믿고 쓰는 도시바~  디자인도 좋아졌어요~      \n",
       "4284  2018.03.24  윤*성           .  속도도 빠르고 컴팩트하니 귀엽네요      \n",
       "4285  2018.03.12  고*성                         .  굳 좋음      \n",
       "4286  2018.03.07   강*                   .  배송이 겁나빠르군용      \n",
       "4287  2018.02.25  노*훈  .  아직 사용은 안 했지만 좋은 가격에 잘 샀습니다~      \n",
       "\n",
       "                                                    pos          pos_filtered  \n",
       "4283  [(., SF), (믿, VV), (고, ECE), (쓰, VV), (는, ETD)...          [고,도시바,디자인,]  \n",
       "4284  [(., SF), (속도, NNG), (도, JX), (빠르, VA), (고, EC...     [속도,빠르,고,컴팩트,귀엽,]  \n",
       "4285                       [(., SF), (굳, VV), (좋음, UN)]                 [좋음,]  \n",
       "4286  [(., SF), (배송, NNG), (이, JKS), (겁, NNG), (나, V...            [배송,겁,빠르,]  \n",
       "4287  [(., SF), (아직, MAG), (사용, NNG), (은, JX), (안, M...  [아직,사용,안,지만,좋,가격,잘,]  "
      ]
     },
     "execution_count": 4,
     "metadata": {},
     "output_type": "execute_result"
    }
   ],
   "source": [
    "df_train.tail()"
   ]
  },
  {
   "cell_type": "code",
   "execution_count": 84,
   "metadata": {},
   "outputs": [],
   "source": [
    "# 크롤링 raw 데이터와 read_csv로 가져온 데이터 concat하지 말 것\n",
    "# 데이터 타입 다름!!"
   ]
  },
  {
   "cell_type": "code",
   "execution_count": 37,
   "metadata": {},
   "outputs": [],
   "source": [
    "import csv\n",
    "df_train.to_csv(\"keyword1_50_100.csv\", index=False)"
   ]
  },
  {
   "cell_type": "code",
   "execution_count": 57,
   "metadata": {},
   "outputs": [],
   "source": [
    "df_train_1 = pd.read_csv(\"keyword1_0_10.csv\")\n",
    "df_train_2 = pd.read_csv(\"keyword1_10_50.csv\")\n",
    "df_train_3 = pd.read_csv(\"keyword1_50_100.csv\")"
   ]
  },
  {
   "cell_type": "code",
   "execution_count": 61,
   "metadata": {},
   "outputs": [],
   "source": [
    "df_train_concat = pd.concat([df_train_1, df_train_2, df_train_3]).reset_index()"
   ]
  },
  {
   "cell_type": "code",
   "execution_count": 62,
   "metadata": {},
   "outputs": [
    {
     "data": {
      "text/plain": [
       "13806"
      ]
     },
     "execution_count": 62,
     "metadata": {},
     "output_type": "execute_result"
    }
   ],
   "source": [
    "len(df_train_concat)"
   ]
  },
  {
   "cell_type": "code",
   "execution_count": 64,
   "metadata": {},
   "outputs": [],
   "source": [
    "# pos_filtered 컬럼에 대해서 아래 작업 필수\n",
    "df_train_concat['pos_filtered'] = df_train_concat['pos_filtered'].apply(lambda a: a.split(\"'\")[1:-1])\n",
    "# pos_filtered 컬럼은 하나의 스트링이 한 리스트 안에 들어가 있는 형태이므로\n",
    "# 스트링의 쿼트를 기준으로 split해서 대괄호와 스트링을 분리한 후 스트링만 리스트에 남긴다\n",
    "\n",
    "# rating, pos 컬럼도 작업이 필요하지만 pos 컬럼은 완벽하게 작업 현재로서는 불가\n",
    "df_train_concat['rating'] = df_train_concat['rating'].apply(lambda a: str(a))"
   ]
  },
  {
   "cell_type": "code",
   "execution_count": 33,
   "metadata": {},
   "outputs": [
    {
     "data": {
      "text/plain": [
       "\"['좋,']\""
      ]
     },
     "metadata": {},
     "output_type": "display_data"
    },
    {
     "data": {
      "text/plain": [
       "['[', '좋,', ']']"
      ]
     },
     "metadata": {},
     "output_type": "display_data"
    },
    {
     "data": {
      "text/plain": [
       "['좋,']"
      ]
     },
     "metadata": {},
     "output_type": "display_data"
    }
   ],
   "source": [
    "# display(df_train_2[i][3742])\n",
    "# display(df_train_2[i][3742].split(\"'\"))\n",
    "# display(df_train_2[i][3742].split(\"'\")[1:-1])"
   ]
  },
  {
   "cell_type": "code",
   "execution_count": 34,
   "metadata": {
    "scrolled": true
   },
   "outputs": [],
   "source": [
    "# col_ls = list(df_train.columns)\n",
    "# for i in col_ls:\n",
    "#     display(df_train[i][3742])\n",
    "#     display(df_train_2[i][3742])\n",
    "#     display(df_train[i][3742] == df_train_2[i][3742])"
   ]
  },
  {
   "cell_type": "code",
   "execution_count": 77,
   "metadata": {},
   "outputs": [],
   "source": [
    "X_train = f.Vectorizer_train(df_train_concat, 'EHD', stop_words=['고'])\n",
    "y_train = df_train_concat['rating_filtered']"
   ]
  },
  {
   "cell_type": "code",
   "execution_count": 78,
   "metadata": {},
   "outputs": [
    {
     "name": "stdout",
     "output_type": "stream",
     "text": [
      "             precision    recall  f1-score   support\n",
      "\n",
      "          0       0.78      0.77      0.77       989\n",
      "          1       0.98      0.98      0.98     12817\n",
      "\n",
      "avg / total       0.97      0.97      0.97     13806\n",
      "\n"
     ]
    }
   ],
   "source": [
    "from sklearn.naive_bayes import MultinomialNB\n",
    "from sklearn.metrics import classification_report\n",
    "import pickle\n",
    "\n",
    "model = MultinomialNB()\n",
    "model.fit(X_train, y_train)\n",
    "y_train_pred = model.predict(X_train)\n",
    "print(classification_report(y_train, y_train_pred))\n",
    "pickle.dump(model, open('model_EHD_0_100_13806.pkl', \"wb\"))"
   ]
  },
  {
   "cell_type": "code",
   "execution_count": 69,
   "metadata": {},
   "outputs": [
    {
     "name": "stdout",
     "output_type": "stream",
     "text": [
      "씨게이트 익스펜션 포터블 드라이브 STEA1000400's Review Total Count : 3036\n",
      "씨게이트 익스펜션 포터블 드라이브 STEA1000400's Filtered Review Count : 1342\n"
     ]
    }
   ],
   "source": [
    "df_test = f.make_df_test(\"http://www.coupang.com/vp/products/4889527?itemId=5732888&vendorItemId=3007282849&q=%EC%99%B8%EC%9E%A5%ED%95%98%EB%93%9C&itemsCount=36&searchId=e98a629f3cc445fe87eca88c374e3333&rank=3\")"
   ]
  },
  {
   "cell_type": "code",
   "execution_count": 75,
   "metadata": {},
   "outputs": [],
   "source": [
    "X_test, voca = f.Vectorizer_test(df_test, 'EHD')\n",
    "y_test = df_test['rating_filtered']"
   ]
  },
  {
   "cell_type": "code",
   "execution_count": 79,
   "metadata": {},
   "outputs": [
    {
     "name": "stdout",
     "output_type": "stream",
     "text": [
      "             precision    recall  f1-score   support\n",
      "\n",
      "          0       0.70      0.77      0.73        57\n",
      "          1       0.99      0.99      0.99      1285\n",
      "\n",
      "avg / total       0.98      0.98      0.98      1342\n",
      "\n"
     ]
    }
   ],
   "source": [
    "model = pickle.load(open(\"model_EHD_0_100_13806.pkl\", \"rb\"))\n",
    "y_test_pred = model.predict(X_test)\n",
    "print(classification_report(y_test, y_test_pred))"
   ]
  },
  {
   "cell_type": "code",
   "execution_count": null,
   "metadata": {},
   "outputs": [],
   "source": []
  },
  {
   "cell_type": "code",
   "execution_count": 80,
   "metadata": {},
   "outputs": [
    {
     "name": "stdout",
     "output_type": "stream",
     "text": [
      "레토 외장하드 L2SU's Review Total Count : 1538\n",
      "레토 외장하드 L2SU's Filtered Review Count : 631\n"
     ]
    }
   ],
   "source": [
    "df_test_1 = f.make_df_test(\"http://www.coupang.com/vp/products/1148365?itemId=36098831&vendorItemId=3003474751&q=%EC%99%B8%EC%9E%A5%ED%95%98%EB%93%9C&itemsCount=36&searchId=e98a629f3cc445fe87eca88c374e3333&rank=15\")"
   ]
  },
  {
   "cell_type": "code",
   "execution_count": 81,
   "metadata": {},
   "outputs": [],
   "source": [
    "X_test_1, voca = f.Vectorizer_test(df_test_1, 'EHD')\n",
    "y_test_1 = df_test_1['rating_filtered']"
   ]
  },
  {
   "cell_type": "code",
   "execution_count": 83,
   "metadata": {},
   "outputs": [
    {
     "name": "stdout",
     "output_type": "stream",
     "text": [
      "             precision    recall  f1-score   support\n",
      "\n",
      "          0       0.81      0.72      0.76        69\n",
      "          1       0.97      0.98      0.97       562\n",
      "\n",
      "avg / total       0.95      0.95      0.95       631\n",
      "\n"
     ]
    }
   ],
   "source": [
    "model = pickle.load(open(\"model_EHD_0_100_13806.pkl\", \"rb\"))\n",
    "y_test_pred_1 = model.predict(X_test_1)\n",
    "print(classification_report(y_test_1, y_test_pred_1))"
   ]
  },
  {
   "cell_type": "code",
   "execution_count": 84,
   "metadata": {},
   "outputs": [
    {
     "data": {
      "text/html": [
       "<div>\n",
       "<style scoped>\n",
       "    .dataframe tbody tr th:only-of-type {\n",
       "        vertical-align: middle;\n",
       "    }\n",
       "\n",
       "    .dataframe tbody tr th {\n",
       "        vertical-align: top;\n",
       "    }\n",
       "\n",
       "    .dataframe thead th {\n",
       "        text-align: right;\n",
       "    }\n",
       "</style>\n",
       "<table border=\"1\" class=\"dataframe\">\n",
       "  <thead>\n",
       "    <tr style=\"text-align: right;\">\n",
       "      <th></th>\n",
       "      <th>word</th>\n",
       "      <th>count</th>\n",
       "    </tr>\n",
       "  </thead>\n",
       "  <tbody>\n",
       "    <tr>\n",
       "      <th>0</th>\n",
       "      <td>안</td>\n",
       "      <td>30</td>\n",
       "    </tr>\n",
       "    <tr>\n",
       "      <th>1</th>\n",
       "      <td>연결</td>\n",
       "      <td>29</td>\n",
       "    </tr>\n",
       "    <tr>\n",
       "      <th>2</th>\n",
       "      <td>인식</td>\n",
       "      <td>22</td>\n",
       "    </tr>\n",
       "    <tr>\n",
       "      <th>3</th>\n",
       "      <td>하드</td>\n",
       "      <td>21</td>\n",
       "    </tr>\n",
       "    <tr>\n",
       "      <th>4</th>\n",
       "      <td>외장</td>\n",
       "      <td>16</td>\n",
       "    </tr>\n",
       "  </tbody>\n",
       "</table>\n",
       "</div>"
      ],
      "text/plain": [
       "  word  count\n",
       "0    안     30\n",
       "1   연결     29\n",
       "2   인식     22\n",
       "3   하드     21\n",
       "4   외장     16"
      ]
     },
     "execution_count": 84,
     "metadata": {},
     "output_type": "execute_result"
    }
   ],
   "source": [
    "f.top_word_negative(X_test_1, y_test_pred_1, voca, 5)"
   ]
  },
  {
   "cell_type": "code",
   "execution_count": 85,
   "metadata": {},
   "outputs": [
    {
     "data": {
      "text/html": [
       "<div>\n",
       "<style scoped>\n",
       "    .dataframe tbody tr th:only-of-type {\n",
       "        vertical-align: middle;\n",
       "    }\n",
       "\n",
       "    .dataframe tbody tr th {\n",
       "        vertical-align: top;\n",
       "    }\n",
       "\n",
       "    .dataframe thead th {\n",
       "        text-align: right;\n",
       "    }\n",
       "</style>\n",
       "<table border=\"1\" class=\"dataframe\">\n",
       "  <thead>\n",
       "    <tr style=\"text-align: right;\">\n",
       "      <th></th>\n",
       "      <th>word</th>\n",
       "      <th>count</th>\n",
       "    </tr>\n",
       "  </thead>\n",
       "  <tbody>\n",
       "    <tr>\n",
       "      <th>0</th>\n",
       "      <td>좋</td>\n",
       "      <td>290</td>\n",
       "    </tr>\n",
       "    <tr>\n",
       "      <th>1</th>\n",
       "      <td>잘</td>\n",
       "      <td>152</td>\n",
       "    </tr>\n",
       "    <tr>\n",
       "      <th>2</th>\n",
       "      <td>배송</td>\n",
       "      <td>123</td>\n",
       "    </tr>\n",
       "    <tr>\n",
       "      <th>3</th>\n",
       "      <td>빠르</td>\n",
       "      <td>103</td>\n",
       "    </tr>\n",
       "    <tr>\n",
       "      <th>4</th>\n",
       "      <td>가격</td>\n",
       "      <td>71</td>\n",
       "    </tr>\n",
       "  </tbody>\n",
       "</table>\n",
       "</div>"
      ],
      "text/plain": [
       "  word  count\n",
       "0    좋    290\n",
       "1    잘    152\n",
       "2   배송    123\n",
       "3   빠르    103\n",
       "4   가격     71"
      ]
     },
     "execution_count": 85,
     "metadata": {},
     "output_type": "execute_result"
    }
   ],
   "source": [
    "f.top_word_positive(X_test_1, y_test_pred_1, voca, 5)"
   ]
  },
  {
   "cell_type": "code",
   "execution_count": null,
   "metadata": {},
   "outputs": [],
   "source": []
  },
  {
   "cell_type": "code",
   "execution_count": null,
   "metadata": {},
   "outputs": [],
   "source": []
  },
  {
   "cell_type": "code",
   "execution_count": null,
   "metadata": {},
   "outputs": [],
   "source": []
  },
  {
   "cell_type": "code",
   "execution_count": null,
   "metadata": {},
   "outputs": [],
   "source": []
  },
  {
   "cell_type": "code",
   "execution_count": null,
   "metadata": {},
   "outputs": [],
   "source": []
  },
  {
   "cell_type": "code",
   "execution_count": null,
   "metadata": {},
   "outputs": [],
   "source": []
  },
  {
   "cell_type": "code",
   "execution_count": null,
   "metadata": {},
   "outputs": [],
   "source": []
  },
  {
   "cell_type": "code",
   "execution_count": null,
   "metadata": {},
   "outputs": [],
   "source": []
  },
  {
   "cell_type": "code",
   "execution_count": null,
   "metadata": {},
   "outputs": [],
   "source": []
  },
  {
   "cell_type": "code",
   "execution_count": null,
   "metadata": {},
   "outputs": [],
   "source": []
  },
  {
   "cell_type": "code",
   "execution_count": null,
   "metadata": {},
   "outputs": [],
   "source": []
  },
  {
   "cell_type": "code",
   "execution_count": null,
   "metadata": {},
   "outputs": [],
   "source": []
  },
  {
   "cell_type": "code",
   "execution_count": null,
   "metadata": {},
   "outputs": [],
   "source": []
  },
  {
   "cell_type": "code",
   "execution_count": 25,
   "metadata": {},
   "outputs": [],
   "source": [
    "y_test_pred = pd.DataFrame(y_test_pred, columns=['prediction'])"
   ]
  },
  {
   "cell_type": "code",
   "execution_count": 40,
   "metadata": {},
   "outputs": [
    {
     "data": {
      "text/html": [
       "<div>\n",
       "<style scoped>\n",
       "    .dataframe tbody tr th:only-of-type {\n",
       "        vertical-align: middle;\n",
       "    }\n",
       "\n",
       "    .dataframe tbody tr th {\n",
       "        vertical-align: top;\n",
       "    }\n",
       "\n",
       "    .dataframe thead th {\n",
       "        text-align: right;\n",
       "    }\n",
       "</style>\n",
       "<table border=\"1\" class=\"dataframe\">\n",
       "  <thead>\n",
       "    <tr style=\"text-align: right;\">\n",
       "      <th></th>\n",
       "      <th>prediction</th>\n",
       "    </tr>\n",
       "  </thead>\n",
       "  <tbody>\n",
       "    <tr>\n",
       "      <th>1336</th>\n",
       "      <td>1</td>\n",
       "    </tr>\n",
       "    <tr>\n",
       "      <th>1337</th>\n",
       "      <td>1</td>\n",
       "    </tr>\n",
       "    <tr>\n",
       "      <th>1338</th>\n",
       "      <td>1</td>\n",
       "    </tr>\n",
       "    <tr>\n",
       "      <th>1339</th>\n",
       "      <td>1</td>\n",
       "    </tr>\n",
       "    <tr>\n",
       "      <th>1340</th>\n",
       "      <td>1</td>\n",
       "    </tr>\n",
       "  </tbody>\n",
       "</table>\n",
       "</div>"
      ],
      "text/plain": [
       "      prediction\n",
       "1336           1\n",
       "1337           1\n",
       "1338           1\n",
       "1339           1\n",
       "1340           1"
      ]
     },
     "execution_count": 40,
     "metadata": {},
     "output_type": "execute_result"
    }
   ],
   "source": [
    "y_test_pred.tail()"
   ]
  },
  {
   "cell_type": "code",
   "execution_count": 63,
   "metadata": {},
   "outputs": [
    {
     "data": {
      "text/plain": [
       "54"
      ]
     },
     "metadata": {},
     "output_type": "display_data"
    },
    {
     "data": {
      "text/plain": [
       "1287"
      ]
     },
     "metadata": {},
     "output_type": "display_data"
    },
    {
     "data": {
      "text/plain": [
       "numpy.int64"
      ]
     },
     "metadata": {},
     "output_type": "display_data"
    }
   ],
   "source": [
    "neg_or_pos = y_test_pred.groupby(by='prediction').size().reset_index(name='count')\n",
    "neg = list(neg_or_pos[neg_or_pos['prediction']==0]['count'].values)[0]\n",
    "display(neg)\n",
    "pos = list(neg_or_pos[neg_or_pos['prediction']==1]['count'].values)[0]\n",
    "display(pos, type(pos))"
   ]
  },
  {
   "cell_type": "code",
   "execution_count": null,
   "metadata": {},
   "outputs": [],
   "source": [
    "def neg_or_pos(y_test_pred):\n",
    "    \"\"\"\n",
    "    y_test_pred를 받아서 negative 댓글 개수와 positive 댓글 개수를 int로 반환\n",
    "    \"\"\"\n",
    "    y_test_pred = pd.DataFrame(y_test_pred, columns=['prediction'])\n",
    "    neg_or_pos = y_test_pred.groupby(by='prediction').size().reset_index(name='count')\n",
    "    neg = list(neg_or_pos[neg_or_pos['prediction']==0]['count'].values)[0]\n",
    "    pos = list(neg_or_pos[neg_or_pos['prediction']==1]['count'].values)[0]\n",
    "    return neg, pos"
   ]
  },
  {
   "cell_type": "code",
   "execution_count": 67,
   "metadata": {
    "scrolled": true
   },
   "outputs": [
    {
     "data": {
      "text/html": [
       "<div>\n",
       "<style scoped>\n",
       "    .dataframe tbody tr th:only-of-type {\n",
       "        vertical-align: middle;\n",
       "    }\n",
       "\n",
       "    .dataframe tbody tr th {\n",
       "        vertical-align: top;\n",
       "    }\n",
       "\n",
       "    .dataframe thead th {\n",
       "        text-align: right;\n",
       "    }\n",
       "</style>\n",
       "<table border=\"1\" class=\"dataframe\">\n",
       "  <thead>\n",
       "    <tr style=\"text-align: right;\">\n",
       "      <th></th>\n",
       "      <th>word</th>\n",
       "      <th>count</th>\n",
       "    </tr>\n",
       "  </thead>\n",
       "  <tbody>\n",
       "    <tr>\n",
       "      <th>0</th>\n",
       "      <td>안</td>\n",
       "      <td>25</td>\n",
       "    </tr>\n",
       "    <tr>\n",
       "      <th>1</th>\n",
       "      <td>인식</td>\n",
       "      <td>23</td>\n",
       "    </tr>\n",
       "    <tr>\n",
       "      <th>2</th>\n",
       "      <td>하드</td>\n",
       "      <td>18</td>\n",
       "    </tr>\n",
       "    <tr>\n",
       "      <th>3</th>\n",
       "      <td>안되</td>\n",
       "      <td>16</td>\n",
       "    </tr>\n",
       "    <tr>\n",
       "      <th>4</th>\n",
       "      <td>없</td>\n",
       "      <td>16</td>\n",
       "    </tr>\n",
       "  </tbody>\n",
       "</table>\n",
       "</div>"
      ],
      "text/plain": [
       "  word  count\n",
       "0    안     25\n",
       "1   인식     23\n",
       "2   하드     18\n",
       "3   안되     16\n",
       "4    없     16"
      ]
     },
     "execution_count": 67,
     "metadata": {},
     "output_type": "execute_result"
    }
   ],
   "source": [
    "f.top_word_negative(X_test, y_test_pred, voca, 5)"
   ]
  },
  {
   "cell_type": "code",
   "execution_count": 66,
   "metadata": {},
   "outputs": [
    {
     "data": {
      "text/html": [
       "<div>\n",
       "<style scoped>\n",
       "    .dataframe tbody tr th:only-of-type {\n",
       "        vertical-align: middle;\n",
       "    }\n",
       "\n",
       "    .dataframe tbody tr th {\n",
       "        vertical-align: top;\n",
       "    }\n",
       "\n",
       "    .dataframe thead th {\n",
       "        text-align: right;\n",
       "    }\n",
       "</style>\n",
       "<table border=\"1\" class=\"dataframe\">\n",
       "  <thead>\n",
       "    <tr style=\"text-align: right;\">\n",
       "      <th></th>\n",
       "      <th>word</th>\n",
       "      <th>count</th>\n",
       "    </tr>\n",
       "  </thead>\n",
       "  <tbody>\n",
       "    <tr>\n",
       "      <th>0</th>\n",
       "      <td>좋</td>\n",
       "      <td>693</td>\n",
       "    </tr>\n",
       "    <tr>\n",
       "      <th>1</th>\n",
       "      <td>잘</td>\n",
       "      <td>350</td>\n",
       "    </tr>\n",
       "    <tr>\n",
       "      <th>2</th>\n",
       "      <td>빠르</td>\n",
       "      <td>296</td>\n",
       "    </tr>\n",
       "    <tr>\n",
       "      <th>3</th>\n",
       "      <td>배송</td>\n",
       "      <td>252</td>\n",
       "    </tr>\n",
       "    <tr>\n",
       "      <th>4</th>\n",
       "      <td>케이스</td>\n",
       "      <td>188</td>\n",
       "    </tr>\n",
       "  </tbody>\n",
       "</table>\n",
       "</div>"
      ],
      "text/plain": [
       "  word  count\n",
       "0    좋    693\n",
       "1    잘    350\n",
       "2   빠르    296\n",
       "3   배송    252\n",
       "4  케이스    188"
      ]
     },
     "execution_count": 66,
     "metadata": {},
     "output_type": "execute_result"
    }
   ],
   "source": [
    "f.top_word_positive(X_test, y_test_pred, voca, 5)"
   ]
  },
  {
   "cell_type": "code",
   "execution_count": null,
   "metadata": {},
   "outputs": [],
   "source": []
  }
 ],
 "metadata": {
  "kernelspec": {
   "display_name": "Python 3",
   "language": "python",
   "name": "python3"
  },
  "language_info": {
   "codemirror_mode": {
    "name": "ipython",
    "version": 3
   },
   "file_extension": ".py",
   "mimetype": "text/x-python",
   "name": "python",
   "nbconvert_exporter": "python",
   "pygments_lexer": "ipython3",
   "version": "3.6.4"
  }
 },
 "nbformat": 4,
 "nbformat_minor": 2
}
